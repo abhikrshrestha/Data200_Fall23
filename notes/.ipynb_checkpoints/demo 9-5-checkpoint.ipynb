{
 "cells": [
  {
   "cell_type": "code",
   "execution_count": 1,
   "id": "0e0a75cd",
   "metadata": {},
   "outputs": [],
   "source": [
    "# relative path\n",
    "file = open('hello.txt','r')"
   ]
  },
  {
   "cell_type": "code",
   "execution_count": 2,
   "id": "e3c8fa16",
   "metadata": {},
   "outputs": [
    {
     "data": {
      "text/plain": [
       "<_io.TextIOWrapper name='hello.txt' mode='r' encoding='UTF-8'>"
      ]
     },
     "execution_count": 2,
     "metadata": {},
     "output_type": "execute_result"
    }
   ],
   "source": [
    "file"
   ]
  },
  {
   "cell_type": "code",
   "execution_count": 4,
   "id": "738cee0d",
   "metadata": {},
   "outputs": [],
   "source": [
    "# absolute path\n",
    "file = open('/Users/bilene/Documents/GitHub/Data200_Fall233/data/hello.txt','r')"
   ]
  },
  {
   "cell_type": "code",
   "execution_count": 5,
   "id": "f195833f",
   "metadata": {},
   "outputs": [
    {
     "data": {
      "text/plain": [
       "<_io.TextIOWrapper name='/Users/bilene/Documents/GitHub/Data200_Fall233/data/hello.txt' mode='r' encoding='UTF-8'>"
      ]
     },
     "execution_count": 5,
     "metadata": {},
     "output_type": "execute_result"
    }
   ],
   "source": [
    "file"
   ]
  },
  {
   "cell_type": "code",
   "execution_count": 6,
   "id": "a2423884",
   "metadata": {},
   "outputs": [
    {
     "name": "stdout",
     "output_type": "stream",
     "text": [
      "<_io.TextIOWrapper name='/Users/bilene/Documents/GitHub/Data200_Fall233/data/hello.txt' mode='r' encoding='UTF-8'>\n"
     ]
    }
   ],
   "source": [
    "print(file)"
   ]
  },
  {
   "cell_type": "code",
   "execution_count": 7,
   "id": "f5696c35",
   "metadata": {},
   "outputs": [],
   "source": [
    "file = open('hello.txt')"
   ]
  },
  {
   "cell_type": "code",
   "execution_count": 8,
   "id": "fbb9444d",
   "metadata": {},
   "outputs": [
    {
     "data": {
      "text/plain": [
       "<_io.TextIOWrapper name='hello.txt' mode='r' encoding='UTF-8'>"
      ]
     },
     "execution_count": 8,
     "metadata": {},
     "output_type": "execute_result"
    }
   ],
   "source": [
    "file"
   ]
  },
  {
   "cell_type": "code",
   "execution_count": 10,
   "id": "fc5d218b",
   "metadata": {},
   "outputs": [
    {
     "data": {
      "text/plain": [
       "'/Users/bilene'"
      ]
     },
     "execution_count": 10,
     "metadata": {},
     "output_type": "execute_result"
    }
   ],
   "source": [
    "# import the os library\n",
    "import os\n",
    "\n",
    "# check current working directory\n",
    "os.getcwd()"
   ]
  },
  {
   "cell_type": "code",
   "execution_count": 11,
   "id": "fc9bcf70",
   "metadata": {},
   "outputs": [],
   "source": [
    "# change directory\n",
    "os.chdir(\"/Users/bilene/Downloads\")"
   ]
  },
  {
   "cell_type": "code",
   "execution_count": 12,
   "id": "6d264407",
   "metadata": {},
   "outputs": [
    {
     "data": {
      "text/plain": [
       "'/Users/bilene/Downloads'"
      ]
     },
     "execution_count": 12,
     "metadata": {},
     "output_type": "execute_result"
    }
   ],
   "source": [
    "os.getcwd()"
   ]
  },
  {
   "cell_type": "code",
   "execution_count": 13,
   "id": "313f5175",
   "metadata": {},
   "outputs": [],
   "source": [
    "# make directory\n",
    "os.mkdir(\"/Users/bilene/Downloads/newfolder\")"
   ]
  },
  {
   "cell_type": "code",
   "execution_count": 15,
   "id": "b8ea7999",
   "metadata": {},
   "outputs": [],
   "source": [
    "os.chdir(\"/Users/bilene/Downloads/newfolder\")"
   ]
  },
  {
   "cell_type": "code",
   "execution_count": 16,
   "id": "284140b1",
   "metadata": {},
   "outputs": [
    {
     "data": {
      "text/plain": [
       "'/Users/bilene/Downloads/newfolder'"
      ]
     },
     "execution_count": 16,
     "metadata": {},
     "output_type": "execute_result"
    }
   ],
   "source": [
    "os.getcwd()"
   ]
  },
  {
   "cell_type": "code",
   "execution_count": 17,
   "id": "dfe2f7e3",
   "metadata": {},
   "outputs": [
    {
     "data": {
      "text/plain": [
       "'/Users/bilene/hello.txt'"
      ]
     },
     "execution_count": 17,
     "metadata": {},
     "output_type": "execute_result"
    }
   ],
   "source": [
    "datadir = '/Users/bilene'\n",
    "filepath = os.path.join(datadir, 'hello.txt')\n",
    "filepath"
   ]
  },
  {
   "cell_type": "code",
   "execution_count": 19,
   "id": "bcfdbbc5",
   "metadata": {},
   "outputs": [
    {
     "data": {
      "text/plain": [
       "<_io.TextIOWrapper name='/Users/bilene/hello.txt' mode='r' encoding='UTF-8'>"
      ]
     },
     "execution_count": 19,
     "metadata": {},
     "output_type": "execute_result"
    }
   ],
   "source": [
    "file = open(filepath)\n",
    "file"
   ]
  },
  {
   "cell_type": "code",
   "execution_count": 20,
   "id": "15596b22",
   "metadata": {},
   "outputs": [
    {
     "name": "stdout",
     "output_type": "stream",
     "text": [
      "File opened successfully\n"
     ]
    }
   ],
   "source": [
    "# try-except block that prints \"File opened successfully\" if the file is opened,\n",
    "# and otherwise it prints \"Error opening file\"\n",
    "try:\n",
    "    file = open(filepath)\n",
    "    print(\"File opened successfully\")\n",
    "except OSError:\n",
    "    print(\"Error opening file\")\n",
    "\n",
    "# close the file\n",
    "file.close()"
   ]
  },
  {
   "cell_type": "code",
   "execution_count": 21,
   "id": "9c20751b",
   "metadata": {},
   "outputs": [],
   "source": [
    "# read file using read()\n",
    "filepath = os.path.join(datadir, 'hello.txt')\n",
    "file = open(filepath)\n",
    "\n",
    "contents = file.read()\n",
    "\n",
    "file.close()"
   ]
  },
  {
   "cell_type": "code",
   "execution_count": 22,
   "id": "f19d3a4c",
   "metadata": {},
   "outputs": [
    {
     "name": "stdout",
     "output_type": "stream",
     "text": [
      "Hello World!\n",
      "\n"
     ]
    }
   ],
   "source": [
    "print(contents)"
   ]
  },
  {
   "cell_type": "code",
   "execution_count": 25,
   "id": "fec416f0",
   "metadata": {},
   "outputs": [
    {
     "name": "stdout",
     "output_type": "stream",
     "text": [
      "First line\n",
      " A second line\n",
      "\n"
     ]
    }
   ],
   "source": [
    "# read file using readline()\n",
    "filepath = os.path.join(datadir, 'twolines.txt')\n",
    "file = open(filepath)\n",
    "\n",
    "contents1 = file.readline()\n",
    "contents2 = file.readline()\n",
    "\n",
    "file.close()\n",
    "\n",
    "print(contents1, contents2)"
   ]
  },
  {
   "cell_type": "code",
   "execution_count": 26,
   "id": "9cfba18f",
   "metadata": {},
   "outputs": [
    {
     "name": "stdout",
     "output_type": "stream",
     "text": [
      "['First line\\n', 'A second line\\n']\n"
     ]
    }
   ],
   "source": [
    "# read file using readlines()\n",
    "filepath = os.path.join(datadir, 'twolines.txt')\n",
    "file = open(filepath)\n",
    "\n",
    "contents = file.readlines()\n",
    "\n",
    "file.close()\n",
    "\n",
    "print(contents)"
   ]
  },
  {
   "cell_type": "code",
   "execution_count": 29,
   "id": "b567101b",
   "metadata": {},
   "outputs": [
    {
     "data": {
      "text/plain": [
       "'First line\\n'"
      ]
     },
     "execution_count": 29,
     "metadata": {},
     "output_type": "execute_result"
    }
   ],
   "source": [
    "contents[0]"
   ]
  },
  {
   "cell_type": "code",
   "execution_count": null,
   "id": "a1ddf74d",
   "metadata": {},
   "outputs": [],
   "source": []
  },
  {
   "cell_type": "code",
   "execution_count": 1,
   "id": "2be5038c",
   "metadata": {},
   "outputs": [
    {
     "data": {
      "text/plain": [
       "'/Users/bilene'"
      ]
     },
     "execution_count": 1,
     "metadata": {},
     "output_type": "execute_result"
    }
   ],
   "source": [
    "import os\n",
    "os.getcwd()"
   ]
  },
  {
   "cell_type": "code",
   "execution_count": null,
   "id": "90fd355c",
   "metadata": {},
   "outputs": [],
   "source": [
    "# open and read 'baby_2010_female_name.txt' using read(), readline(), and readlines()\n",
    "# read()\n",
    "\n",
    "# readline()\n",
    "\n",
    "# readlines()\n",
    "\n"
   ]
  }
 ],
 "metadata": {
  "kernelspec": {
   "display_name": "Python 3 (ipykernel)",
   "language": "python",
   "name": "python3"
  },
  "language_info": {
   "codemirror_mode": {
    "name": "ipython",
    "version": 3
   },
   "file_extension": ".py",
   "mimetype": "text/x-python",
   "name": "python",
   "nbconvert_exporter": "python",
   "pygments_lexer": "ipython3",
   "version": "3.9.13"
  }
 },
 "nbformat": 4,
 "nbformat_minor": 5
}
