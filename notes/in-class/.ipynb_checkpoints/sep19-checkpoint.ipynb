{
 "cells": [
  {
   "cell_type": "code",
   "execution_count": 1,
   "id": "fa8570c1",
   "metadata": {},
   "outputs": [
    {
     "data": {
      "text/plain": [
       "{'year': [2018, 2018, 2017, 2017, 2016, 2016],\n",
       " 'sex': ['Male', 'Female', 'Male', 'Female', 'Male', 'Female'],\n",
       " 'name': ['Liam', 'Emma', 'Liam', 'Emma', 'Noah', 'Emma'],\n",
       " 'count': [19837, 18688, 18798, 19800, 19117, 19496]}"
      ]
     },
     "execution_count": 1,
     "metadata": {},
     "output_type": "execute_result"
    }
   ],
   "source": [
    "# dictionary of lists\n",
    "topnames = {'year': [2018,2018,2017,2017,2016,2016],\n",
    "\t    'sex': ['Male','Female','Male','Female','Male','Female'],\n",
    "\t    'name': ['Liam','Emma','Liam','Emma','Noah','Emma'],\n",
    "\t    'count': [19837,18688,18798,19800,19117,19496]}\n",
    "\n",
    "# print the entire row with row_index = 3\n",
    "topnames"
   ]
  },
  {
   "cell_type": "code",
   "execution_count": 4,
   "id": "9d96e552",
   "metadata": {},
   "outputs": [
    {
     "name": "stdout",
     "output_type": "stream",
     "text": [
      "2017 Female Emma 19800\n"
     ]
    }
   ],
   "source": [
    "print(topnames['year'][3], topnames['sex'][3], \\\n",
    "      topnames['name'][3], topnames['count'][3])"
   ]
  },
  {
   "cell_type": "code",
   "execution_count": 5,
   "id": "c61b4218",
   "metadata": {},
   "outputs": [
    {
     "data": {
      "text/plain": [
       "[[2018, 'Male', 'Liam', 19837],\n",
       " [2018, 'Female', 'Emma', 18688],\n",
       " [2017, 'Male', 'Liam', 18798],\n",
       " [2017, 'Female', 'Emma', 19800],\n",
       " [2016, 'Male', 'Noah', 19117],\n",
       " [2016, 'Female', 'Emma', 19496]]"
      ]
     },
     "execution_count": 5,
     "metadata": {},
     "output_type": "execute_result"
    }
   ],
   "source": [
    "topnames = [[2018, 'Male', 'Liam', 19837],\n",
    "\t    [2018,'Female', 'Emma', 18688],\n",
    "\t    [2017, 'Male', 'Liam', 18798],\n",
    "\t    [2017,'Female', 'Emma', 19800],\n",
    "\t    [2016,'Male', 'Noah', 19117],\n",
    "\t    [2016,'Female', 'Emma', 19496]]\n",
    "columns = ['year', 'sex', 'name', 'count']\n",
    "# print he entire column with col_index = 3\n",
    "topnames"
   ]
  },
  {
   "cell_type": "code",
   "execution_count": 6,
   "id": "d69072fb",
   "metadata": {},
   "outputs": [
    {
     "name": "stdout",
     "output_type": "stream",
     "text": [
      "19837 18688 18798 19800 19117 19496\n"
     ]
    }
   ],
   "source": [
    "print(topnames[0][3], topnames[1][3], topnames[2][3], topnames[3][3], topnames[4][3], topnames[5][3])"
   ]
  },
  {
   "cell_type": "code",
   "execution_count": 12,
   "id": "8035b488",
   "metadata": {},
   "outputs": [
    {
     "name": "stdout",
     "output_type": "stream",
     "text": [
      "Requirement already satisfied: pandas in ./anaconda3/lib/python3.11/site-packages (1.5.3)\n",
      "Requirement already satisfied: python-dateutil>=2.8.1 in ./anaconda3/lib/python3.11/site-packages (from pandas) (2.8.2)\n",
      "Requirement already satisfied: pytz>=2020.1 in ./anaconda3/lib/python3.11/site-packages (from pandas) (2022.7)\n",
      "Requirement already satisfied: numpy>=1.21.0 in ./anaconda3/lib/python3.11/site-packages (from pandas) (1.24.3)\n",
      "Requirement already satisfied: six>=1.5 in ./anaconda3/lib/python3.11/site-packages (from python-dateutil>=2.8.1->pandas) (1.16.0)\n",
      "Note: you may need to restart the kernel to use updated packages.\n"
     ]
    }
   ],
   "source": [
    "pip install pandas"
   ]
  },
  {
   "cell_type": "code",
   "execution_count": 13,
   "id": "47aac77a",
   "metadata": {},
   "outputs": [],
   "source": [
    "import pandas as pd"
   ]
  },
  {
   "cell_type": "code",
   "execution_count": 14,
   "id": "15375b30",
   "metadata": {},
   "outputs": [
    {
     "data": {
      "text/plain": [
       "0    10\n",
       "1    30\n",
       "2    -6\n",
       "3     9\n",
       "dtype: int64"
      ]
     },
     "execution_count": 14,
     "metadata": {},
     "output_type": "execute_result"
    }
   ],
   "source": [
    "pd.Series([10,30,-6,9])"
   ]
  },
  {
   "cell_type": "code",
   "execution_count": null,
   "id": "4c9169b1",
   "metadata": {},
   "outputs": [],
   "source": []
  }
 ],
 "metadata": {
  "kernelspec": {
   "display_name": "Python 3 (ipykernel)",
   "language": "python",
   "name": "python3"
  },
  "language_info": {
   "codemirror_mode": {
    "name": "ipython",
    "version": 3
   },
   "file_extension": ".py",
   "mimetype": "text/x-python",
   "name": "python",
   "nbconvert_exporter": "python",
   "pygments_lexer": "ipython3",
   "version": "3.9.13"
  }
 },
 "nbformat": 4,
 "nbformat_minor": 5
}
